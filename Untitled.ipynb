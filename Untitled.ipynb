{
 "cells": [
  {
   "cell_type": "code",
   "execution_count": 1,
   "metadata": {},
   "outputs": [],
   "source": [
    "import torch\n",
    "from torchvision import transforms\n",
    "from torch.utils.data import DataLoader\n",
    "\n",
    "from utils.trainer import get_embeddings\n",
    "from utils.constants import device, data_transform\n",
    "from utils.dataset import TestingDataset\n",
    "from networks.autoencoder import Autoencoder"
   ]
  },
  {
   "cell_type": "code",
   "execution_count": 5,
   "metadata": {},
   "outputs": [
    {
     "name": "stdout",
     "output_type": "stream",
     "text": [
      "8063\n",
      "2016/2016 (100.0%) - 252s\r"
     ]
    }
   ],
   "source": [
    "BATCH_SIZE = 4\n",
    "\n",
    "dataset = TestingDataset('pitfall/')\n",
    "dataloader = DataLoader(dataset, batch_size=BATCH_SIZE,\n",
    "                        shuffle=False, num_workers=0)\n",
    "\n",
    "model = Autoencoder().to(device)\n",
    "model.load_state_dict(torch.load('weights/model29.pth',\n",
    "                                 map_location='cpu'))\n",
    "model.eval()\n",
    "print(len(dataset))\n",
    "embeddings, embedding_nums, embedding_actions =\\\n",
    "    get_embeddings(model, dataloader)"
   ]
  },
  {
   "cell_type": "code",
   "execution_count": 18,
   "metadata": {},
   "outputs": [
    {
     "data": {
      "text/plain": [
       "tensor([[0.],\n",
       "        [0.],\n",
       "        [0.],\n",
       "        ...,\n",
       "        [0.],\n",
       "        [0.],\n",
       "        [0.]])"
      ]
     },
     "execution_count": 18,
     "metadata": {},
     "output_type": "execute_result"
    }
   ],
   "source": [
    "a = torch.tensor(embeddings)\n",
    "b = torch.norm(a, 2, 1)\n",
    "b.view(-1, 1)"
   ]
  },
  {
   "cell_type": "code",
   "execution_count": null,
   "metadata": {},
   "outputs": [],
   "source": [
    "def mAP(vectors, t):\n",
    "    special_frames = list(range(0, len(vectors), 60))\n",
    "    results = []\n",
    "    normalized_vectors = vectors / torch.norm(vectors, 2, 1).view(-1, 1)\n",
    "    for special_frame in special_frames:\n",
    "        y_true = torch.tensor(\n",
    "            [abs(i-special_frame)<=t for i in range(len(vectors))])\n",
    "        target = normalized_vectors[special_frame].view(-1, 1)\n",
    "        scores = torch.mm(normalized_vectors, target)\n",
    "        y_true[special_frame] = 0\n",
    "        scores[special_frame] = min(scores).item()\n",
    "        results.append(average_precision_score(y_true, scores))\n",
    "    print(np.mean(results))\n",
    "    \n",
    "    "
   ]
  },
  {
   "cell_type": "code",
   "execution_count": null,
   "metadata": {},
   "outputs": [],
   "source": [
    "for i, (embedding, num, action) in enumerate(\n",
    "    zip(embeddings, embedding_nums, embedding_actions)):\n",
    "    "
   ]
  }
 ],
 "metadata": {
  "kernelspec": {
   "display_name": "Python 3",
   "language": "python",
   "name": "python3"
  },
  "language_info": {
   "codemirror_mode": {
    "name": "ipython",
    "version": 3
   },
   "file_extension": ".py",
   "mimetype": "text/x-python",
   "name": "python",
   "nbconvert_exporter": "python",
   "pygments_lexer": "ipython3",
   "version": "3.6.8"
  }
 },
 "nbformat": 4,
 "nbformat_minor": 2
}
